{
 "cells": [
  {
   "cell_type": "markdown",
   "metadata": {},
   "source": [
    "Beautiful Soup is the most common Python library for web scraping"
   ]
  },
  {
   "cell_type": "code",
   "execution_count": null,
   "metadata": {},
   "outputs": [],
   "source": [
    "from bs4 import BeautifulSoup"
   ]
  },
  {
   "cell_type": "markdown",
   "metadata": {},
   "source": [
    "For simplicity, we will use Brandon's example `index.html`, which must be in the current directory. We'll use it because it has short html code, in contrast with real pages that have huge code."
   ]
  },
  {
   "cell_type": "code",
   "execution_count": 23,
   "metadata": {},
   "outputs": [],
   "source": [
    "webpage = open(\"./Example1/index.html\") # finds index.html in the current directory"
   ]
  },
  {
   "cell_type": "code",
   "execution_count": 24,
   "metadata": {},
   "outputs": [],
   "source": [
    "bs = BeautifulSoup(webpage, 'html.parser') # parses the website into bs object"
   ]
  },
  {
   "cell_type": "code",
   "execution_count": 54,
   "metadata": {},
   "outputs": [
    {
     "data": {
      "text/plain": [
       "<html>\n",
       "<head>\n",
       "<title>My Website</title>\n",
       "<link href=\"style.css\" rel=\"stylesheet\" type=\"text/css\"/>\n",
       "</head>\n",
       "<body>\n",
       "<div id=\"container\">\n",
       "<div id=\"header\">\n",
       "<h1>My Website</h1>\n",
       "</div>\n",
       "<div id=\"content\">\n",
       "<div id=\"nav\">\n",
       "<h3>Navigation</h3>\n",
       "<ul>\n",
       "<li><a class=\"selected\" href=\"\">Home</a></li>\n",
       "<li><a href=\"\">About</a></li>\n",
       "<li><a href=\"\">Contact</a></li>\n",
       "</ul>\n",
       "</div>\n",
       "<div id=\"main\">\n",
       "<h2>Home Page</h2>\n",
       "<p> Paragraph 1</p>\n",
       "<p> Paragraph 2</p>\n",
       "<p> Paragraph 3</p>\n",
       "</div>\n",
       "</div>\n",
       "<div id=\"footer\">\n",
       "\t\t\t\tCopyright ©2018 Brandon Podojil\n",
       "\t\t\t</div>\n",
       "</div>\n",
       "</body>\n",
       "</html>"
      ]
     },
     "execution_count": 54,
     "metadata": {},
     "output_type": "execute_result"
    }
   ],
   "source": [
    "bs # it prints the html context at which bs is pointing to"
   ]
  },
  {
   "cell_type": "markdown",
   "metadata": {},
   "source": [
    "We can find items with css paths"
   ]
  },
  {
   "cell_type": "code",
   "execution_count": 26,
   "metadata": {},
   "outputs": [
    {
     "data": {
      "text/plain": [
       "<ul>\n",
       "<li><a class=\"selected\" href=\"\">Home</a></li>\n",
       "<li><a href=\"\">About</a></li>\n",
       "<li><a href=\"\">Contact</a></li>\n",
       "</ul>"
      ]
     },
     "execution_count": 26,
     "metadata": {},
     "output_type": "execute_result"
    }
   ],
   "source": [
    "bs.body.div.ul"
   ]
  },
  {
   "cell_type": "markdown",
   "metadata": {},
   "source": [
    "With css path you only find the first item of each tag, so it's not very useful. What if we want all `div`s. We can use `find_all`. Compare the three commands `bs.div`, `bs.find(\"div\")`, `bs.find_all(\"div\")` below. The first two are equivalent."
   ]
  },
  {
   "cell_type": "code",
   "execution_count": 57,
   "metadata": {},
   "outputs": [
    {
     "data": {
      "text/plain": [
       "[<div id=\"container\">\n",
       " <div id=\"header\">\n",
       " <h1>My Website</h1>\n",
       " </div>\n",
       " <div id=\"content\">\n",
       " <div id=\"nav\">\n",
       " <h3>Navigation</h3>\n",
       " <ul>\n",
       " <li><a class=\"selected\" href=\"\">Home</a></li>\n",
       " <li><a href=\"\">About</a></li>\n",
       " <li><a href=\"\">Contact</a></li>\n",
       " </ul>\n",
       " </div>\n",
       " <div id=\"main\">\n",
       " <h2>Home Page</h2>\n",
       " <p> Paragraph 1</p>\n",
       " <p> Paragraph 2</p>\n",
       " <p> Paragraph 3</p>\n",
       " </div>\n",
       " </div>\n",
       " <div id=\"footer\">\n",
       " \t\t\t\tCopyright ©2018 Brandon Podojil\n",
       " \t\t\t</div>\n",
       " </div>, <div id=\"header\">\n",
       " <h1>My Website</h1>\n",
       " </div>, <div id=\"content\">\n",
       " <div id=\"nav\">\n",
       " <h3>Navigation</h3>\n",
       " <ul>\n",
       " <li><a class=\"selected\" href=\"\">Home</a></li>\n",
       " <li><a href=\"\">About</a></li>\n",
       " <li><a href=\"\">Contact</a></li>\n",
       " </ul>\n",
       " </div>\n",
       " <div id=\"main\">\n",
       " <h2>Home Page</h2>\n",
       " <p> Paragraph 1</p>\n",
       " <p> Paragraph 2</p>\n",
       " <p> Paragraph 3</p>\n",
       " </div>\n",
       " </div>, <div id=\"nav\">\n",
       " <h3>Navigation</h3>\n",
       " <ul>\n",
       " <li><a class=\"selected\" href=\"\">Home</a></li>\n",
       " <li><a href=\"\">About</a></li>\n",
       " <li><a href=\"\">Contact</a></li>\n",
       " </ul>\n",
       " </div>, <div id=\"main\">\n",
       " <h2>Home Page</h2>\n",
       " <p> Paragraph 1</p>\n",
       " <p> Paragraph 2</p>\n",
       " <p> Paragraph 3</p>\n",
       " </div>, <div id=\"footer\">\n",
       " \t\t\t\tCopyright ©2018 Brandon Podojil\n",
       " \t\t\t</div>]"
      ]
     },
     "execution_count": 57,
     "metadata": {},
     "output_type": "execute_result"
    }
   ],
   "source": [
    "bs.find_all(\"div\")"
   ]
  },
  {
   "cell_type": "code",
   "execution_count": 58,
   "metadata": {},
   "outputs": [
    {
     "data": {
      "text/plain": [
       "<div id=\"container\">\n",
       "<div id=\"header\">\n",
       "<h1>My Website</h1>\n",
       "</div>\n",
       "<div id=\"content\">\n",
       "<div id=\"nav\">\n",
       "<h3>Navigation</h3>\n",
       "<ul>\n",
       "<li><a class=\"selected\" href=\"\">Home</a></li>\n",
       "<li><a href=\"\">About</a></li>\n",
       "<li><a href=\"\">Contact</a></li>\n",
       "</ul>\n",
       "</div>\n",
       "<div id=\"main\">\n",
       "<h2>Home Page</h2>\n",
       "<p> Paragraph 1</p>\n",
       "<p> Paragraph 2</p>\n",
       "<p> Paragraph 3</p>\n",
       "</div>\n",
       "</div>\n",
       "<div id=\"footer\">\n",
       "\t\t\t\tCopyright ©2018 Brandon Podojil\n",
       "\t\t\t</div>\n",
       "</div>"
      ]
     },
     "execution_count": 58,
     "metadata": {},
     "output_type": "execute_result"
    }
   ],
   "source": [
    "bs.div"
   ]
  },
  {
   "cell_type": "code",
   "execution_count": 59,
   "metadata": {},
   "outputs": [
    {
     "data": {
      "text/plain": [
       "<div id=\"container\">\n",
       "<div id=\"header\">\n",
       "<h1>My Website</h1>\n",
       "</div>\n",
       "<div id=\"content\">\n",
       "<div id=\"nav\">\n",
       "<h3>Navigation</h3>\n",
       "<ul>\n",
       "<li><a class=\"selected\" href=\"\">Home</a></li>\n",
       "<li><a href=\"\">About</a></li>\n",
       "<li><a href=\"\">Contact</a></li>\n",
       "</ul>\n",
       "</div>\n",
       "<div id=\"main\">\n",
       "<h2>Home Page</h2>\n",
       "<p> Paragraph 1</p>\n",
       "<p> Paragraph 2</p>\n",
       "<p> Paragraph 3</p>\n",
       "</div>\n",
       "</div>\n",
       "<div id=\"footer\">\n",
       "\t\t\t\tCopyright ©2018 Brandon Podojil\n",
       "\t\t\t</div>\n",
       "</div>"
      ]
     },
     "execution_count": 59,
     "metadata": {},
     "output_type": "execute_result"
    }
   ],
   "source": [
    "bs.find(\"div\")"
   ]
  },
  {
   "cell_type": "code",
   "execution_count": 60,
   "metadata": {},
   "outputs": [
    {
     "data": {
      "text/plain": [
       "True"
      ]
     },
     "execution_count": 60,
     "metadata": {},
     "output_type": "execute_result"
    }
   ],
   "source": [
    "bs.find(\"div\") == bs.div"
   ]
  },
  {
   "cell_type": "code",
   "execution_count": 61,
   "metadata": {},
   "outputs": [
    {
     "data": {
      "text/plain": [
       "False"
      ]
     },
     "execution_count": 61,
     "metadata": {},
     "output_type": "execute_result"
    }
   ],
   "source": [
    "bs.find_all(\"div\") == bs.div"
   ]
  },
  {
   "cell_type": "markdown",
   "metadata": {},
   "source": [
    "Imagine we discover we want the object with id nav. What can we do?\n",
    "\n",
    "We can use the function find."
   ]
  },
  {
   "cell_type": "code",
   "execution_count": 27,
   "metadata": {},
   "outputs": [
    {
     "name": "stdout",
     "output_type": "stream",
     "text": [
      "Help on method find in module bs4.element:\n",
      "\n",
      "find(name=None, attrs={}, recursive=True, text=None, **kwargs) method of bs4.BeautifulSoup instance\n",
      "    Return only the first child of this Tag matching the given\n",
      "    criteria.\n",
      "\n"
     ]
    }
   ],
   "source": [
    "help(bs.find)"
   ]
  },
  {
   "cell_type": "code",
   "execution_count": 50,
   "metadata": {},
   "outputs": [
    {
     "data": {
      "text/plain": [
       "<div id=\"nav\">\n",
       "<h3>Navigation</h3>\n",
       "<ul>\n",
       "<li><a class=\"selected\" href=\"\">Home</a></li>\n",
       "<li><a href=\"\">About</a></li>\n",
       "<li><a href=\"\">Contact</a></li>\n",
       "</ul>\n",
       "</div>"
      ]
     },
     "execution_count": 50,
     "metadata": {},
     "output_type": "execute_result"
    }
   ],
   "source": [
    "bs.find(id = \"nav\")"
   ]
  },
  {
   "cell_type": "markdown",
   "metadata": {},
   "source": [
    "We now want to the selected item"
   ]
  },
  {
   "cell_type": "code",
   "execution_count": 33,
   "metadata": {},
   "outputs": [],
   "source": [
    "nav = bs.find(id = 'nav')"
   ]
  },
  {
   "cell_type": "code",
   "execution_count": 34,
   "metadata": {},
   "outputs": [
    {
     "data": {
      "text/plain": [
       "<div id=\"nav\">\n",
       "<h3>Navigation</h3>\n",
       "<ul>\n",
       "<li><a class=\"selected\" href=\"\">Home</a></li>\n",
       "<li><a href=\"\">About</a></li>\n",
       "<li><a href=\"\">Contact</a></li>\n",
       "</ul>\n",
       "</div>"
      ]
     },
     "execution_count": 34,
     "metadata": {},
     "output_type": "execute_result"
    }
   ],
   "source": [
    "nav"
   ]
  },
  {
   "cell_type": "markdown",
   "metadata": {},
   "source": [
    "What if we want the children of this nav. \n",
    "Note what happens, often html is parsed with some errors, there are empty childs"
   ]
  },
  {
   "cell_type": "code",
   "execution_count": 43,
   "metadata": {},
   "outputs": [
    {
     "name": "stdout",
     "output_type": "stream",
     "text": [
      "=== child 1 ===\n",
      "\n",
      "\n",
      "=============== \n",
      "\n",
      "=== child 2 ===\n",
      "<h3>Navigation</h3>\n",
      "=============== \n",
      "\n",
      "=== child 3 ===\n",
      "\n",
      "\n",
      "=============== \n",
      "\n",
      "=== child 4 ===\n",
      "<ul>\n",
      "<li><a class=\"selected\" href=\"\">Home</a></li>\n",
      "<li><a href=\"\">About</a></li>\n",
      "<li><a href=\"\">Contact</a></li>\n",
      "</ul>\n",
      "=============== \n",
      "\n",
      "=== child 5 ===\n",
      "\n",
      "\n",
      "=============== \n",
      "\n"
     ]
    }
   ],
   "source": [
    "i = 1\n",
    "for child in nav.children:\n",
    "    print(\"=== child\", i, \"===\")\n",
    "    print(child)\n",
    "    print(\"=============== \\n\")\n",
    "    i += 1"
   ]
  },
  {
   "cell_type": "markdown",
   "metadata": {},
   "source": [
    "Supose that we want the selected list item. Note that class we write `class_` with an underscore at the end, that's because `class` is a special word in Python, and the BeautifulSoup developers decided to use the underscore to differentiate."
   ]
  },
  {
   "cell_type": "code",
   "execution_count": 51,
   "metadata": {},
   "outputs": [],
   "source": [
    "selected = nav.find(class_=\"selected\")"
   ]
  },
  {
   "cell_type": "code",
   "execution_count": 52,
   "metadata": {},
   "outputs": [
    {
     "data": {
      "text/plain": [
       "<a class=\"selected\" href=\"\">Home</a>"
      ]
     },
     "execution_count": 52,
     "metadata": {},
     "output_type": "execute_result"
    }
   ],
   "source": [
    "selected"
   ]
  },
  {
   "cell_type": "markdown",
   "metadata": {},
   "source": [
    "Finally, how to extract the text"
   ]
  },
  {
   "cell_type": "code",
   "execution_count": 53,
   "metadata": {},
   "outputs": [
    {
     "data": {
      "text/plain": [
       "'Home'"
      ]
     },
     "execution_count": 53,
     "metadata": {},
     "output_type": "execute_result"
    }
   ],
   "source": [
    "selected.text"
   ]
  },
  {
   "cell_type": "markdown",
   "metadata": {},
   "source": [
    "Congrats! Now you've built your first scraper."
   ]
  }
 ],
 "metadata": {
  "kernelspec": {
   "display_name": "Python 3",
   "language": "python",
   "name": "python3"
  },
  "language_info": {
   "codemirror_mode": {
    "name": "ipython",
    "version": 3
   },
   "file_extension": ".py",
   "mimetype": "text/x-python",
   "name": "python",
   "nbconvert_exporter": "python",
   "pygments_lexer": "ipython3",
   "version": "3.6.5"
  }
 },
 "nbformat": 4,
 "nbformat_minor": 2
}
